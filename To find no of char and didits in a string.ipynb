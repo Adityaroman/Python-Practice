{
 "cells": [
  {
   "cell_type": "code",
   "execution_count": 21,
   "id": "10cfc12d-abb4-42a2-b2bc-3aab32ccdcd8",
   "metadata": {},
   "outputs": [
    {
     "name": "stdin",
     "output_type": "stream",
     "text": [
      " Aditya 012\n"
     ]
    },
    {
     "name": "stdout",
     "output_type": "stream",
     "text": [
      "Digit:  3\n",
      "Alphabet: 6\n"
     ]
    }
   ],
   "source": [
    "x=input()\n",
    "digit=0\n",
    "alphabet=0\n",
    "for i in x:\n",
    "    if i.isdigit():\n",
    "        digit+=1\n",
    "    elif i.isalpha():\n",
    "        alphabet+=1\n",
    "print(\"Digit: \", digit)\n",
    "print(\"Alphabet:\",alphabet)"
   ]
  }
 ],
 "metadata": {
  "kernelspec": {
   "display_name": "Python 3 (ipykernel)",
   "language": "python",
   "name": "python3"
  },
  "language_info": {
   "codemirror_mode": {
    "name": "ipython",
    "version": 3
   },
   "file_extension": ".py",
   "mimetype": "text/x-python",
   "name": "python",
   "nbconvert_exporter": "python",
   "pygments_lexer": "ipython3",
   "version": "3.11.7"
  }
 },
 "nbformat": 4,
 "nbformat_minor": 5
}
