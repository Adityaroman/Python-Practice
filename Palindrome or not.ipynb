{
 "cells": [
  {
   "cell_type": "code",
   "execution_count": 21,
   "id": "1e1f5a1e-d67b-4356-beb8-b50ee9263ad7",
   "metadata": {},
   "outputs": [
    {
     "name": "stdin",
     "output_type": "stream",
     "text": [
      " malayalam\n"
     ]
    },
    {
     "name": "stdout",
     "output_type": "stream",
     "text": [
      "m\n",
      "am\n",
      "lam\n",
      "alam\n",
      "yalam\n",
      "ayalam\n",
      "layalam\n",
      "alayalam\n",
      "malayalam\n",
      "Reversed text: malayalam\n",
      "Yes, the given string is a palindrome\n"
     ]
    }
   ],
   "source": [
    "text = str(input())\n",
    "rev_t = \"\"\n",
    "\n",
    "for j in text:\n",
    "    rev_t = j + rev_t\n",
    "    print(rev_t)\n",
    "print(\"Reversed text:\", rev_t)\n",
    "\n",
    "if text == rev_t:\n",
    "    print(\"Yes, the given string is a palindrome\")\n",
    "else:\n",
    "    print(\"No, the given string is not a palindrome\")\n"
   ]
  },
  {
   "cell_type": "code",
   "execution_count": null,
   "id": "8f470fd9-d51b-41c1-9271-899ee769b45d",
   "metadata": {},
   "outputs": [],
   "source": []
  }
 ],
 "metadata": {
  "kernelspec": {
   "display_name": "Python 3 (ipykernel)",
   "language": "python",
   "name": "python3"
  },
  "language_info": {
   "codemirror_mode": {
    "name": "ipython",
    "version": 3
   },
   "file_extension": ".py",
   "mimetype": "text/x-python",
   "name": "python",
   "nbconvert_exporter": "python",
   "pygments_lexer": "ipython3",
   "version": "3.11.7"
  }
 },
 "nbformat": 4,
 "nbformat_minor": 5
}
